{
 "cells": [
  {
   "cell_type": "markdown",
   "metadata": {
    "collapsed": false
   },
   "source": [
    "# Predict cell fates using the CNN-RNN approach"
   ]
  },
  {
   "cell_type": "markdown",
   "metadata": {},
   "source": [
    "To predict cell fates using our approach, we need the `caffe` framework (to extract features) as well as `Theano` (to do the acutal prediction). To install caffe, first clone our fork from [here](https://github.com/flophys/caffe) (providing full support for concatenation layer).  Then follow stanard `caffe`  installation instructions that can be found [here](http://caffe.berkeleyvision.org/installation.html). `Theano` can be installed following the instructions detailed [here](http://deeplearning.net/software/theano/install.html). We recommend using the Anaconda distribution for an easy installation process of both `Theano` and `caffe`.\n",
    "Predictions are not computationally expensive and can be performed using CPU on a standard laptop (no cuda/GPU requiured to run this notebook)."
   ]
  },
  {
   "cell_type": "code",
   "execution_count": 15,
   "metadata": {
    "collapsed": false
   },
   "outputs": [],
   "source": [
    "import os\n",
    "import glob\n",
    "import scipy as SP\n",
    "import sys\n",
    "import pickle\n",
    "from sklearn import metrics\n",
    "\n",
    "caffe_root = '/Users/flo/software/caffe/'  #root directory of the caffe installation\n",
    "sys.path.append(caffe_root + 'python')\n",
    "sys.path.append('./')\n",
    "\n",
    "import caffe\n",
    "import py.extract_features as extr#import mat2dict, extract\n",
    "from py.rnn import RNN\n",
    "%matplotlib inline\n"
   ]
  },
  {
   "cell_type": "markdown",
   "metadata": {
    "collapsed": true
   },
   "source": [
    "Having loaded the required packages, we load the sample images and displacement features generated with the matlab scripts, which form a small subset of all images in the test set of round 1. In addition, we also provide a pickeled version of all image patches in this test set. "
   ]
  },
  {
   "cell_type": "code",
   "execution_count": 2,
   "metadata": {
    "collapsed": false
   },
   "outputs": [],
   "source": [
    "reload(extr)\n",
    "####load all annotated inmages in the test set#### \n",
    "pickle_file = '../processes_data/images_round3_test_annotated.pickle' #path to the pickled image patches\n",
    "ims = extr.load_pickle(pickle_file)\n",
    "\n",
    "####load the subset of images#### \n",
    "#mat_files = glob.glob('../processes_data/cell*.mat') #path to the cell for which we would like to obtain a fate prediction\n",
    "#ims = extr.load_mat(mat_files) #load images and displacement features from matlab file into dictionary"
   ]
  },
  {
   "cell_type": "markdown",
   "metadata": {},
   "source": [
    "Next, we extract the CNN-features for a given cell, using a pre-trained network we provide.\n",
    "\n"
   ]
  },
  {
   "cell_type": "code",
   "execution_count": 3,
   "metadata": {
    "collapsed": false
   },
   "outputs": [
    {
     "name": "stdout",
     "output_type": "stream",
     "text": [
      "50/1056 cells processed\n",
      "100/1056 cells processed\n",
      "150/1056 cells processed\n",
      "200/1056 cells processed\n",
      "250/1056 cells processed\n",
      "300/1056 cells processed\n",
      "350/1056 cells processed\n",
      "400/1056 cells processed\n",
      "450/1056 cells processed\n",
      "500/1056 cells processed\n",
      "550/1056 cells processed\n",
      "600/1056 cells processed\n",
      "650/1056 cells processed\n",
      "700/1056 cells processed\n",
      "750/1056 cells processed\n",
      "800/1056 cells processed\n",
      "850/1056 cells processed\n",
      "900/1056 cells processed\n",
      "950/1056 cells processed\n",
      "1000/1056 cells processed\n",
      "1050/1056 cells processed\n",
      "1056/1056 cells processed\n"
     ]
    }
   ],
   "source": [
    "PRETRAINED = './models/cnn_models/round_3/trained_CNN.caffemodel' #path to the pretrained model\n",
    "MODEL_FILE = os.path.join('./models/cnn_models/','CNN_deploy.prototxt') #model file specifying the architecture \n",
    "                                                                        #of the pre-trained model\n",
    "\n",
    "feat_list = []\n",
    "labels = []\n",
    "predsCNN = []\n",
    "nCells = len(ims['im'])\n",
    "for i in range(nCells):\n",
    "    res = extr.extract(pretrained=PRETRAINED, model_file=MODEL_FILE, input_image_test=ims['im'][i], \n",
    "                  displacement_test=ims['mov'][i])#extract the CNN features\n",
    "    feat_list.append(res['feats'])\n",
    "    labels.append(ims['label'][i])\n",
    "    predsCNN.append(res['pred_all'].mean())\n",
    "    if SP.mod(i+1,50)==0 or (i+1)==(nCells):\n",
    "        print('%i/%i cells processed' % (i+1,nCells))\n",
    "\n",
    "\n"
   ]
  },
  {
   "cell_type": "markdown",
   "metadata": {},
   "source": [
    "We can next pass these image-patch specific features into the RNN-part of the model and get a cell-specific prediction based on CNN features. To this end, we first populate the RNN with the pre-trained parameters. Next we pass t"
   ]
  },
  {
   "cell_type": "code",
   "execution_count": 5,
   "metadata": {
    "collapsed": false
   },
   "outputs": [
    {
     "name": "stdout",
     "output_type": "stream",
     "text": [
      "OK\n"
     ]
    }
   ],
   "source": [
    "fn = './models/rnn_models/round_3/trained_modelRNN.pkl'#pre-trained model\n",
    "\n",
    "#load model parameters\n",
    "f = open(fn, 'rb')\n",
    "[structure, weights] = pickle.load(f)\n",
    "\n",
    "#populate model\n",
    "model = RNN(structure[0], structure[1], structure[2], 'dblstm')\n",
    "model.set_theta(weights)\n",
    "\n",
    "#run prediction\n",
    "pred = model.predict(feat_list) #predict from CNN-based features\n"
   ]
  },
  {
   "cell_type": "markdown",
   "metadata": {},
   "source": [
    "Finally, we can evaluate the model perfromacne on the test set by calculating the macro-averaged F1 score and plot an ROC curve"
   ]
  },
  {
   "cell_type": "code",
   "execution_count": 16,
   "metadata": {
    "collapsed": false,
    "scrolled": false
   },
   "outputs": [
    {
     "name": "stdout",
     "output_type": "stream",
     "text": [
      "Macro averaged F1 score 0.79:\n"
     ]
    },
    {
     "data": {
      "image/png": "[encoded data removed]",
      "text/plain": [
       "<matplotlib.figure.Figure at 0x12f4fc050>"
      ]
     },
     "metadata": {},
     "output_type": "display_data"
    },
    {
     "data": {
      "image/png": "[encoded data removed]",
      "text/plain": [
       "<matplotlib.figure.Figure at 0x16e2d4890>"
      ]
     },
     "metadata": {},
     "output_type": "display_data"
    }
   ],
   "source": [
    "reload(extr)\n",
    "\n",
    "\n",
    "F1 = metrics.f1_score(SP.vstack(labels).ravel().astype('int'),pred.ravel()>.5, average=\"macro\")\n",
    "print('Macro averaged F1 score %1.2f:' % F1)\n",
    "\n",
    "extr.plotPerfromanceCurve(pred.ravel(),  SP.vstack(labels).ravel())\n",
    "extr.plotAUC(pred.ravel(),  SP.vstack(labels).ravel(), is_annotated=True)\n",
    "\n",
    "\n"
   ]
  },
  {
   "cell_type": "code",
   "execution_count": null,
   "metadata": {
    "collapsed": false
   },
   "outputs": [],
   "source": []
  }
 ],
 "metadata": {
  "kernelspec": {
   "display_name": "Python 2",
   "language": "python",
   "name": "python2"
  },
  "language_info": {
   "codemirror_mode": {
    "name": "ipython",
    "version": 2
   },
   "file_extension": ".py",
   "mimetype": "text/x-python",
   "name": "python",
   "nbconvert_exporter": "python",
   "pygments_lexer": "ipython2",
   "version": "2.7.11"
  }
 },
 "nbformat": 4,
 "nbformat_minor": 0
}
