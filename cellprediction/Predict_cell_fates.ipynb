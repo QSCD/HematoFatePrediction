{
 "cells": [
  {
   "cell_type": "markdown",
   "metadata": {
    "collapsed": false
   },
   "source": [
    "# Predict cell fates using the CNN-RNN approach"
   ]
  },
  {
   "cell_type": "markdown",
   "metadata": {},
   "source": [
    "To predict cell fates using our approach, we need the `caffe` framework (to extract features) as well as `Theano` (to do the acutal prediction). To install caffe, first clone our fork from [here](https://github.com/flophys/caffe) (providing full support for concatenation layer).  Then follow stanard `caffe`  installation instructions that can be found [here](http://caffe.berkeleyvision.org/installation.html). `Theano` can be installed following the instructions detailed [here](http://deeplearning.net/software/theano/install.html). We recommend using the Anaconda distribution for an easy installation process of both `Theano` and `caffe`.\n",
    "Predictions are not computationally expensive and can be performed using CPU on a standard laptop (no cuda/GPU requiured to run this notebook)."
   ]
  },
  {
   "cell_type": "code",
   "execution_count": null,
   "metadata": {
    "collapsed": false
   },
   "outputs": [],
   "source": [
    "import os\n",
    "import glob\n",
    "import scipy as SP\n",
    "import sys\n",
    "\n",
    "caffe_root = '/Users/flo/software/caffe/'  #root directory of the caffe installation\n",
    "sys.path.append(caffe_root + 'python')\n",
    "sys.path.append('./')\n",
    "\n",
    "import caffe\n",
    "import py.extract_features as extr#import mat2dict, extract\n",
    "from py.rnn import RNN"
   ]
  },
  {
   "cell_type": "markdown",
   "metadata": {
    "collapsed": true
   },
   "source": [
    "Having loaded the required packages, we load images and displacement features from matlab file into dictionary."
   ]
  },
  {
   "cell_type": "code",
   "execution_count": 30,
   "metadata": {
    "collapsed": false
   },
   "outputs": [],
   "source": [
    "reload(extr)\n",
    "mat_files = glob.glob('../processes_data/cell*.mat') #path to the cell for which we would like to obtain a fate prediction\n",
    "cellIDs = [mat_file.split('/')[2].split('.')[0] for mat_file in mat_files] #get cellIDs from file names\n",
    "\n",
    "nCells = len(mat_files)\n",
    "\n",
    "ims = extr.mat2dict(mat_files) #load images and displacement features from matlab file into dictionary\n",
    "\n"
   ]
  },
  {
   "cell_type": "markdown",
   "metadata": {},
   "source": [
    "Next, we extract the CNN-features for a given cell, using a pre-trained network we provide.\n",
    "\n"
   ]
  },
  {
   "cell_type": "code",
   "execution_count": 32,
   "metadata": {
    "collapsed": false
   },
   "outputs": [],
   "source": [
    "num_iter = 45000\n",
    "film_tr = \"120602PH5\"\n",
    "\n",
    "PRETRAINED = './models/cnn_models/'+film_tr+'/trained_CNN.caffemodel' #path to the pretrained model\n",
    "MODEL_FILE = os.path.join(caffe_root,'examples/single_cells/CNN_deploy.prototxt') #model file specifying the architecture of the pre-trained model\n",
    "\n",
    "feat_list = []\n",
    "labels = []\n",
    "predsCNN = []\n",
    "for i in range(nCells):\n",
    "    res = extr.extract(pretrained=PRETRAINED, model_file=MODEL_FILE, input_image_test=ims[i]['im'], \n",
    "                  displacement_test=ims[i]['mov'])#extract the CNN features\n",
    "    feat_list.append(res['feats'])\n",
    "    labels.append(ims[i]['label'][0].astype('int'))\n",
    "    predsCNN.append(res['pred_all'].mean())\n"
   ]
  },
  {
   "cell_type": "markdown",
   "metadata": {},
   "source": [
    "We can next pass these image-patch specific features into the RNN-part of the model and get a cell-specific prediction based on CNN features. To this end, we first populate the RNN with the pre-trained parameters. Next we pass t"
   ]
  },
  {
   "cell_type": "code",
   "execution_count": 33,
   "metadata": {
    "collapsed": false
   },
   "outputs": [
    {
     "name": "stdout",
     "output_type": "stream",
     "text": [
      "OK\n"
     ]
    },
    {
     "data": {
      "text/plain": [
       "[('cell_1', 0.11399163, 0.17840698287398513, '3'),\n",
       " ('cell_10', 0.10822291, 0.15677303846267113, '1'),\n",
       " ('cell_12', 0.53996056, 0.43691967104474994, '2'),\n",
       " ('cell_164', 0.93448567, 0.48321249830845425, '-1'),\n",
       " ('cell_193', 0.96923244, 0.64816473803822272, '-1'),\n",
       " ('cell_2', 0.17836502, 0.24097076373953469, '3'),\n",
       " ('cell_20', 0.10698476, 0.12209481045533634, '1'),\n",
       " ('cell_24', 0.90018779, 0.45790841470098298, '2'),\n",
       " ('cell_3', 0.32182574, 0.2714828827025732, '3'),\n",
       " ('cell_41', 0.11717759, 0.26383823449939292, '-1'),\n",
       " ('cell_48', 0.39450011, 0.36484276000510729, '2'),\n",
       " ('cell_5', 0.34744716, 0.37612379915513022, '3'),\n",
       " ('cell_6', 0.47294822, 0.3743198669469826, '2'),\n",
       " ('cell_82', 0.13798042, 0.2585519005878622, '-1'),\n",
       " ('cell_96', 0.69771969, 0.41234238799915607, '2')]"
      ]
     },
     "execution_count": 33,
     "metadata": {},
     "output_type": "execute_result"
    }
   ],
   "source": [
    "fn = './models/rnn_models/120602PH5/trained_modelRNN.pkl'#pre-trained model\n",
    "\n",
    "#load model parameters\n",
    "f = open(fn, 'rb')\n",
    "[structure, weights] = pickle.load(f)\n",
    "\n",
    "#populate model\n",
    "model = RNN(structure[0], structure[1], structure[2], 'dblstm')\n",
    "model.set_theta(weights)\n",
    "\n",
    "#run prediction\n",
    "pred = model.predict(feat_list) #predict from CNN-based features\n",
    "\n",
    "#fate predictions\n",
    "zip(cellIDs, pred.ravel(), SP.vstack(predsCNN).ravel(), SP.vstack(labels).ravel().astype('str'))"
   ]
  },
  {
   "cell_type": "code",
   "execution_count": null,
   "metadata": {
    "collapsed": false
   },
   "outputs": [],
   "source": []
  }
 ],
 "metadata": {
  "kernelspec": {
   "display_name": "Python 2",
   "language": "python",
   "name": "python2"
  },
  "language_info": {
   "codemirror_mode": {
    "name": "ipython",
    "version": 2
   },
   "file_extension": ".py",
   "mimetype": "text/x-python",
   "name": "python",
   "nbconvert_exporter": "python",
   "pygments_lexer": "ipython2",
   "version": "2.7.11"
  }
 },
 "nbformat": 4,
 "nbformat_minor": 0
}
